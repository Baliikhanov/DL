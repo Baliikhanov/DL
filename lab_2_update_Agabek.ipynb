{
  "nbformat": 4,
  "nbformat_minor": 0,
  "metadata": {
    "colab": {
      "name": "lec_10_update_Agabek.ipynb",
      "provenance": [],
      "collapsed_sections": []
    },
    "kernelspec": {
      "name": "python3",
      "display_name": "Python 3"
    }
  },
  "cells": [
    {
      "cell_type": "code",
      "metadata": {
        "id": "MAr-wqoSuRHR"
      },
      "source": [
        "import torch\n",
        "from torch import nn\n",
        "import torch.nn.functional as F\n",
        "import pandas as pd\n",
        "import re\n",
        "import numpy as np\n",
        "import seaborn as sns\n",
        "from matplotlib import pyplot as plt\n",
        "\n"
      ],
      "execution_count": 1,
      "outputs": []
    },
    {
      "cell_type": "code",
      "metadata": {
        "id": "8MBEF1Ehu8E5"
      },
      "source": [
        "corpus = open('sample_corpus.txt', 'r', encoding='utf8').read()"
      ],
      "execution_count": 3,
      "outputs": []
    },
    {
      "cell_type": "code",
      "metadata": {
        "id": "K5iBJfHP4dP2"
      },
      "source": [
        ""
      ],
      "execution_count": null,
      "outputs": []
    },
    {
      "cell_type": "code",
      "metadata": {
        "id": "Zl7LDFsYmY1r",
        "colab": {
          "base_uri": "https://localhost:8080/"
        },
        "outputId": "1873c88d-68a5-4ee8-a3be-8fcefbca9111"
      },
      "source": [
        "print(corpus)"
      ],
      "execution_count": 4,
      "outputs": [
        {
          "output_type": "stream",
          "text": [
            "Я всегда любил зиму. \n",
            "Помнится, наигравшись вдоволь во дворе, я прибегал домой и отогревался у камина.\n",
            "Пока за окном бушевала вьюга, я сидел в широком отцовском кресле, вытянув ноги к огню.\n",
            "В руках глиняная кружка, из которой я медленно, наслаждаясь каждым глотком, цедил мамин медовый отвар.\n",
            "Любуясь красно-рыжими язычками пламени, мерно подрагивавшими в очаге и дарившими покой и защиту.\n",
            "Но, увы, все это было в другой жизни.\n",
            "За последние несколько дней мое отношение к зиме кардинально изменилось.\n",
            "Собачий холод, глубокие сугробы, пробирающий до мозга кости ветер – я ненавидел зиму.\n",
            "Ближе к полудню мы спустились в долину и уже по мелколесью продолжили путь на запад.\n",
            "Каждые два-три часа мне приходилось объявлять привал.\n",
            "Сугробы выше колена и сильный ветер довольно быстро опустошали мой источник энергии.\n",
            "На первом привале хотел было глотнуть зелья насыщения, но, понаблюдав за работой «регенерации», пришел к выводу, что тело само прекрасно справляется.\n",
            "Пока я, словно старая черепаха, медленно, от дерева к дереву, ковылял вперед, Ми верхом на харне выполнял роль разведчика.\n",
            "Обжора, казалось, сугробы даже не замечал.\n",
            "Видя, как он длинными прыжками передвигается среди деревьев, я проверил его источник и обзавидовался.\n",
            "На все про все харн тратил чуть меньше пятнадцати процентов энергии.\n",
            "Причем улучшенная до максимума звериная регенерация довольно быстро восстанавливала потраченное.\n",
            "Солнце уже клонилось к закату, когда Ми принес весть об интересной находке.\n",
            "Его «совсем близко» затянулось на два с лишним часа, часть из которых я проплелся, из последних сил держась за стремя.\n",
            "Обжора в буквальном смысле слова дотянул меня до того места, где по словам Ми мне должно было понравиться.\n",
            "Правда, откровенно говоря, в ту секунду мне было уже плевать.\n",
            "Все, о чем я мог думать, это где бы просто прилечь и закрыть глаза.\n",
            "Этот снегопад ясно дал понять, насколько я слаб физически.\n",
            "Необходимо повышать «силу» и «выносливость», если, конечно, мне еще выпадет такая возможность.\n",
            "Кое-как все-таки доковыляв до опушки, я, наконец, самостоятельно смог оценить место, выбранное Ми для ночевки.\n",
            "И, Баг побери, гремлин оказался прав! Мне оно понравилось!\n",
            "Мои потрескавшиеся на морозе губы непроизвольно растянулись в счастливой улыбке.\n",
            "Сегодня впервые за много дней, я буду спать под крышей.\n",
            "Это была небольшая бревенчатая избушка, около семи шагов в длину и пяти в ширину.\n",
            "Невысокая, но довольно просторная на вид.\n",
            "Маленькие двери были наглухо заколочены старыми досками.\n",
            "\n"
          ],
          "name": "stdout"
        }
      ]
    },
    {
      "cell_type": "code",
      "metadata": {
        "id": "uc-yhWHFwKSj",
        "colab": {
          "base_uri": "https://localhost:8080/"
        },
        "outputId": "3724208c-9575-4f8f-87de-d43112d9bd17"
      },
      "source": [
        "corpus = re.sub(r'[\\d\\t,.?!-]','',corpus).split('\\n')\n",
        "print(corpus[:10])"
      ],
      "execution_count": 5,
      "outputs": [
        {
          "output_type": "stream",
          "text": [
            "['Я всегда любил зиму ', 'Помнится наигравшись вдоволь во дворе я прибегал домой и отогревался у камина', 'Пока за окном бушевала вьюга я сидел в широком отцовском кресле вытянув ноги к огню', 'В руках глиняная кружка из которой я медленно наслаждаясь каждым глотком цедил мамин медовый отвар', 'Любуясь краснорыжими язычками пламени мерно подрагивавшими в очаге и дарившими покой и защиту', 'Но увы все это было в другой жизни', 'За последние несколько дней мое отношение к зиме кардинально изменилось', 'Собачий холод глубокие сугробы пробирающий до мозга кости ветер – я ненавидел зиму', 'Ближе к полудню мы спустились в долину и уже по мелколесью продолжили путь на запад', 'Каждые дватри часа мне приходилось объявлять привал']\n"
          ],
          "name": "stdout"
        }
      ]
    },
    {
      "cell_type": "code",
      "metadata": {
        "id": "b8QZ3IMPu9EZ",
        "colab": {
          "base_uri": "https://localhost:8080/"
        },
        "outputId": "09dd189b-a738-49dc-f446-61b2751d6662"
      },
      "source": [
        "def tokenize_corpus(corpus):\n",
        "    tokens = [x.split() for x in corpus]\n",
        "    return tokens\n",
        "\n",
        "tokenized_corpus = tokenize_corpus(corpus)\n",
        "print(tokenized_corpus)"
      ],
      "execution_count": 6,
      "outputs": [
        {
          "output_type": "stream",
          "text": [
            "[['Я', 'всегда', 'любил', 'зиму'], ['Помнится', 'наигравшись', 'вдоволь', 'во', 'дворе', 'я', 'прибегал', 'домой', 'и', 'отогревался', 'у', 'камина'], ['Пока', 'за', 'окном', 'бушевала', 'вьюга', 'я', 'сидел', 'в', 'широком', 'отцовском', 'кресле', 'вытянув', 'ноги', 'к', 'огню'], ['В', 'руках', 'глиняная', 'кружка', 'из', 'которой', 'я', 'медленно', 'наслаждаясь', 'каждым', 'глотком', 'цедил', 'мамин', 'медовый', 'отвар'], ['Любуясь', 'краснорыжими', 'язычками', 'пламени', 'мерно', 'подрагивавшими', 'в', 'очаге', 'и', 'дарившими', 'покой', 'и', 'защиту'], ['Но', 'увы', 'все', 'это', 'было', 'в', 'другой', 'жизни'], ['За', 'последние', 'несколько', 'дней', 'мое', 'отношение', 'к', 'зиме', 'кардинально', 'изменилось'], ['Собачий', 'холод', 'глубокие', 'сугробы', 'пробирающий', 'до', 'мозга', 'кости', 'ветер', '–', 'я', 'ненавидел', 'зиму'], ['Ближе', 'к', 'полудню', 'мы', 'спустились', 'в', 'долину', 'и', 'уже', 'по', 'мелколесью', 'продолжили', 'путь', 'на', 'запад'], ['Каждые', 'дватри', 'часа', 'мне', 'приходилось', 'объявлять', 'привал'], ['Сугробы', 'выше', 'колена', 'и', 'сильный', 'ветер', 'довольно', 'быстро', 'опустошали', 'мой', 'источник', 'энергии'], ['На', 'первом', 'привале', 'хотел', 'было', 'глотнуть', 'зелья', 'насыщения', 'но', 'понаблюдав', 'за', 'работой', '«регенерации»', 'пришел', 'к', 'выводу', 'что', 'тело', 'само', 'прекрасно', 'справляется'], ['Пока', 'я', 'словно', 'старая', 'черепаха', 'медленно', 'от', 'дерева', 'к', 'дереву', 'ковылял', 'вперед', 'Ми', 'верхом', 'на', 'харне', 'выполнял', 'роль', 'разведчика'], ['Обжора', 'казалось', 'сугробы', 'даже', 'не', 'замечал'], ['Видя', 'как', 'он', 'длинными', 'прыжками', 'передвигается', 'среди', 'деревьев', 'я', 'проверил', 'его', 'источник', 'и', 'обзавидовался'], ['На', 'все', 'про', 'все', 'харн', 'тратил', 'чуть', 'меньше', 'пятнадцати', 'процентов', 'энергии'], ['Причем', 'улучшенная', 'до', 'максимума', 'звериная', 'регенерация', 'довольно', 'быстро', 'восстанавливала', 'потраченное'], ['Солнце', 'уже', 'клонилось', 'к', 'закату', 'когда', 'Ми', 'принес', 'весть', 'об', 'интересной', 'находке'], ['Его', '«совсем', 'близко»', 'затянулось', 'на', 'два', 'с', 'лишним', 'часа', 'часть', 'из', 'которых', 'я', 'проплелся', 'из', 'последних', 'сил', 'держась', 'за', 'стремя'], ['Обжора', 'в', 'буквальном', 'смысле', 'слова', 'дотянул', 'меня', 'до', 'того', 'места', 'где', 'по', 'словам', 'Ми', 'мне', 'должно', 'было', 'понравиться'], ['Правда', 'откровенно', 'говоря', 'в', 'ту', 'секунду', 'мне', 'было', 'уже', 'плевать'], ['Все', 'о', 'чем', 'я', 'мог', 'думать', 'это', 'где', 'бы', 'просто', 'прилечь', 'и', 'закрыть', 'глаза'], ['Этот', 'снегопад', 'ясно', 'дал', 'понять', 'насколько', 'я', 'слаб', 'физически'], ['Необходимо', 'повышать', '«силу»', 'и', '«выносливость»', 'если', 'конечно', 'мне', 'еще', 'выпадет', 'такая', 'возможность'], ['Коекак', 'всетаки', 'доковыляв', 'до', 'опушки', 'я', 'наконец', 'самостоятельно', 'смог', 'оценить', 'место', 'выбранное', 'Ми', 'для', 'ночевки'], ['И', 'Баг', 'побери', 'гремлин', 'оказался', 'прав', 'Мне', 'оно', 'понравилось'], ['Мои', 'потрескавшиеся', 'на', 'морозе', 'губы', 'непроизвольно', 'растянулись', 'в', 'счастливой', 'улыбке'], ['Сегодня', 'впервые', 'за', 'много', 'дней', 'я', 'буду', 'спать', 'под', 'крышей'], ['Это', 'была', 'небольшая', 'бревенчатая', 'избушка', 'около', 'семи', 'шагов', 'в', 'длину', 'и', 'пяти', 'в', 'ширину'], ['Невысокая', 'но', 'довольно', 'просторная', 'на', 'вид'], ['Маленькие', 'двери', 'были', 'наглухо', 'заколочены', 'старыми', 'досками'], []]\n"
          ],
          "name": "stdout"
        }
      ]
    },
    {
      "cell_type": "code",
      "metadata": {
        "id": "pABjGo89vn97"
      },
      "source": [
        "vocabulary = []\n",
        "for sentence in tokenized_corpus:\n",
        "    for token in sentence:\n",
        "        if token not in vocabulary:\n",
        "            vocabulary.append(token)\n",
        "\n",
        "word2idx = {w: idx for (idx, w) in enumerate(vocabulary)}\n",
        "idx2word = {idx: w for (idx, w) in enumerate(vocabulary)}\n",
        "\n",
        "vocabulary_size = len(vocabulary)"
      ],
      "execution_count": 7,
      "outputs": []
    },
    {
      "cell_type": "code",
      "metadata": {
        "id": "ZrqFIHVavorf",
        "colab": {
          "base_uri": "https://localhost:8080/"
        },
        "outputId": "220d92f4-2b8d-46d6-eded-5cc351b8f656"
      },
      "source": [
        "word2idx"
      ],
      "execution_count": 8,
      "outputs": [
        {
          "output_type": "execute_result",
          "data": {
            "text/plain": [
              "{'«выносливость»': 233,\n",
              " '«регенерации»': 120,\n",
              " '«силу»': 232,\n",
              " '«совсем': 182,\n",
              " 'Баг': 253,\n",
              " 'Ближе': 81,\n",
              " 'В': 30,\n",
              " 'Видя': 147,\n",
              " 'Все': 212,\n",
              " 'Его': 181,\n",
              " 'За': 61,\n",
              " 'И': 252,\n",
              " 'Каждые': 93,\n",
              " 'Коекак': 240,\n",
              " 'Любуясь': 44,\n",
              " 'Маленькие': 290,\n",
              " 'Ми': 136,\n",
              " 'Мне': 258,\n",
              " 'Мои': 261,\n",
              " 'На': 110,\n",
              " 'Невысокая': 287,\n",
              " 'Необходимо': 230,\n",
              " 'Но': 54,\n",
              " 'Обжора': 142,\n",
              " 'Пока': 16,\n",
              " 'Помнится': 4,\n",
              " 'Правда': 206,\n",
              " 'Причем': 165,\n",
              " 'Сегодня': 269,\n",
              " 'Собачий': 70,\n",
              " 'Солнце': 172,\n",
              " 'Сугробы': 100,\n",
              " 'Это': 276,\n",
              " 'Этот': 222,\n",
              " 'Я': 0,\n",
              " 'близко»': 183,\n",
              " 'бревенчатая': 279,\n",
              " 'буду': 272,\n",
              " 'буквальном': 195,\n",
              " 'бушевала': 19,\n",
              " 'бы': 217,\n",
              " 'была': 277,\n",
              " 'были': 292,\n",
              " 'было': 58,\n",
              " 'быстро': 105,\n",
              " 'в': 22,\n",
              " 'вдоволь': 6,\n",
              " 'верхом': 137,\n",
              " 'весть': 177,\n",
              " 'ветер': 78,\n",
              " 'вид': 289,\n",
              " 'во': 7,\n",
              " 'возможность': 239,\n",
              " 'восстанавливала': 170,\n",
              " 'впервые': 270,\n",
              " 'вперед': 135,\n",
              " 'все': 56,\n",
              " 'всегда': 1,\n",
              " 'всетаки': 241,\n",
              " 'выбранное': 249,\n",
              " 'выводу': 122,\n",
              " 'выпадет': 237,\n",
              " 'выполнял': 139,\n",
              " 'вытянув': 26,\n",
              " 'выше': 101,\n",
              " 'вьюга': 20,\n",
              " 'где': 202,\n",
              " 'глаза': 221,\n",
              " 'глиняная': 32,\n",
              " 'глотком': 39,\n",
              " 'глотнуть': 114,\n",
              " 'глубокие': 72,\n",
              " 'говоря': 208,\n",
              " 'гремлин': 255,\n",
              " 'губы': 264,\n",
              " 'даже': 144,\n",
              " 'дал': 225,\n",
              " 'дарившими': 51,\n",
              " 'два': 185,\n",
              " 'дватри': 94,\n",
              " 'двери': 291,\n",
              " 'дворе': 8,\n",
              " 'дерева': 132,\n",
              " 'дереву': 133,\n",
              " 'деревьев': 154,\n",
              " 'держась': 193,\n",
              " 'длинными': 150,\n",
              " 'длину': 284,\n",
              " 'для': 250,\n",
              " 'дней': 64,\n",
              " 'до': 75,\n",
              " 'довольно': 104,\n",
              " 'доковыляв': 242,\n",
              " 'должно': 204,\n",
              " 'долину': 85,\n",
              " 'домой': 11,\n",
              " 'досками': 296,\n",
              " 'дотянул': 198,\n",
              " 'другой': 59,\n",
              " 'думать': 216,\n",
              " 'его': 156,\n",
              " 'если': 234,\n",
              " 'еще': 236,\n",
              " 'жизни': 60,\n",
              " 'за': 17,\n",
              " 'закату': 174,\n",
              " 'заколочены': 294,\n",
              " 'закрыть': 220,\n",
              " 'замечал': 146,\n",
              " 'запад': 92,\n",
              " 'затянулось': 184,\n",
              " 'защиту': 53,\n",
              " 'звериная': 168,\n",
              " 'зелья': 115,\n",
              " 'зиме': 67,\n",
              " 'зиму': 3,\n",
              " 'и': 12,\n",
              " 'из': 34,\n",
              " 'избушка': 280,\n",
              " 'изменилось': 69,\n",
              " 'интересной': 179,\n",
              " 'источник': 108,\n",
              " 'к': 28,\n",
              " 'каждым': 38,\n",
              " 'казалось': 143,\n",
              " 'как': 148,\n",
              " 'камина': 15,\n",
              " 'кардинально': 68,\n",
              " 'клонилось': 173,\n",
              " 'ковылял': 134,\n",
              " 'когда': 175,\n",
              " 'колена': 102,\n",
              " 'конечно': 235,\n",
              " 'кости': 77,\n",
              " 'которой': 35,\n",
              " 'которых': 189,\n",
              " 'краснорыжими': 45,\n",
              " 'кресле': 25,\n",
              " 'кружка': 33,\n",
              " 'крышей': 275,\n",
              " 'лишним': 187,\n",
              " 'любил': 2,\n",
              " 'максимума': 167,\n",
              " 'мамин': 41,\n",
              " 'медленно': 36,\n",
              " 'медовый': 42,\n",
              " 'мелколесью': 88,\n",
              " 'меньше': 162,\n",
              " 'меня': 199,\n",
              " 'мерно': 48,\n",
              " 'места': 201,\n",
              " 'место': 248,\n",
              " 'мне': 96,\n",
              " 'много': 271,\n",
              " 'мог': 215,\n",
              " 'мое': 65,\n",
              " 'мозга': 76,\n",
              " 'мой': 107,\n",
              " 'морозе': 263,\n",
              " 'мы': 83,\n",
              " 'на': 91,\n",
              " 'наглухо': 293,\n",
              " 'наигравшись': 5,\n",
              " 'наконец': 244,\n",
              " 'насколько': 227,\n",
              " 'наслаждаясь': 37,\n",
              " 'насыщения': 116,\n",
              " 'находке': 180,\n",
              " 'не': 145,\n",
              " 'небольшая': 278,\n",
              " 'ненавидел': 80,\n",
              " 'непроизвольно': 265,\n",
              " 'несколько': 63,\n",
              " 'но': 117,\n",
              " 'ноги': 27,\n",
              " 'ночевки': 251,\n",
              " 'о': 213,\n",
              " 'об': 178,\n",
              " 'обзавидовался': 157,\n",
              " 'объявлять': 98,\n",
              " 'огню': 29,\n",
              " 'оказался': 256,\n",
              " 'окном': 18,\n",
              " 'около': 281,\n",
              " 'он': 149,\n",
              " 'оно': 259,\n",
              " 'опустошали': 106,\n",
              " 'опушки': 243,\n",
              " 'от': 131,\n",
              " 'отвар': 43,\n",
              " 'откровенно': 207,\n",
              " 'отношение': 66,\n",
              " 'отогревался': 13,\n",
              " 'отцовском': 24,\n",
              " 'оценить': 247,\n",
              " 'очаге': 50,\n",
              " 'первом': 111,\n",
              " 'передвигается': 152,\n",
              " 'пламени': 47,\n",
              " 'плевать': 211,\n",
              " 'по': 87,\n",
              " 'побери': 254,\n",
              " 'повышать': 231,\n",
              " 'под': 274,\n",
              " 'подрагивавшими': 49,\n",
              " 'покой': 52,\n",
              " 'полудню': 82,\n",
              " 'понаблюдав': 118,\n",
              " 'понравилось': 260,\n",
              " 'понравиться': 205,\n",
              " 'понять': 226,\n",
              " 'последние': 62,\n",
              " 'последних': 191,\n",
              " 'потраченное': 171,\n",
              " 'потрескавшиеся': 262,\n",
              " 'прав': 257,\n",
              " 'прекрасно': 126,\n",
              " 'прибегал': 10,\n",
              " 'привал': 99,\n",
              " 'привале': 112,\n",
              " 'прилечь': 219,\n",
              " 'принес': 176,\n",
              " 'приходилось': 97,\n",
              " 'пришел': 121,\n",
              " 'про': 158,\n",
              " 'пробирающий': 74,\n",
              " 'проверил': 155,\n",
              " 'продолжили': 89,\n",
              " 'проплелся': 190,\n",
              " 'просто': 218,\n",
              " 'просторная': 288,\n",
              " 'процентов': 164,\n",
              " 'прыжками': 151,\n",
              " 'путь': 90,\n",
              " 'пяти': 285,\n",
              " 'пятнадцати': 163,\n",
              " 'работой': 119,\n",
              " 'разведчика': 141,\n",
              " 'растянулись': 266,\n",
              " 'регенерация': 169,\n",
              " 'роль': 140,\n",
              " 'руках': 31,\n",
              " 'с': 186,\n",
              " 'само': 125,\n",
              " 'самостоятельно': 245,\n",
              " 'секунду': 210,\n",
              " 'семи': 282,\n",
              " 'сидел': 21,\n",
              " 'сил': 192,\n",
              " 'сильный': 103,\n",
              " 'слаб': 228,\n",
              " 'слова': 197,\n",
              " 'словам': 203,\n",
              " 'словно': 128,\n",
              " 'смог': 246,\n",
              " 'смысле': 196,\n",
              " 'снегопад': 223,\n",
              " 'спать': 273,\n",
              " 'справляется': 127,\n",
              " 'спустились': 84,\n",
              " 'среди': 153,\n",
              " 'старая': 129,\n",
              " 'старыми': 295,\n",
              " 'стремя': 194,\n",
              " 'сугробы': 73,\n",
              " 'счастливой': 267,\n",
              " 'такая': 238,\n",
              " 'тело': 124,\n",
              " 'того': 200,\n",
              " 'тратил': 160,\n",
              " 'ту': 209,\n",
              " 'у': 14,\n",
              " 'увы': 55,\n",
              " 'уже': 86,\n",
              " 'улучшенная': 166,\n",
              " 'улыбке': 268,\n",
              " 'физически': 229,\n",
              " 'харн': 159,\n",
              " 'харне': 138,\n",
              " 'холод': 71,\n",
              " 'хотел': 113,\n",
              " 'цедил': 40,\n",
              " 'часа': 95,\n",
              " 'часть': 188,\n",
              " 'чем': 214,\n",
              " 'черепаха': 130,\n",
              " 'что': 123,\n",
              " 'чуть': 161,\n",
              " 'шагов': 283,\n",
              " 'ширину': 286,\n",
              " 'широком': 23,\n",
              " 'энергии': 109,\n",
              " 'это': 57,\n",
              " 'я': 9,\n",
              " 'язычками': 46,\n",
              " 'ясно': 224,\n",
              " '–': 79}"
            ]
          },
          "metadata": {
            "tags": []
          },
          "execution_count": 8
        }
      ]
    },
    {
      "cell_type": "code",
      "metadata": {
        "id": "LWmOVSYWxABb"
      },
      "source": [
        "window_size = 2\n",
        "idx_pairs = []\n",
        "# for each sentence\n",
        "for sentence in tokenized_corpus:\n",
        "    indices = [word2idx[word] for word in sentence]\n",
        "    # for each word, threated as center word\n",
        "    for center_word_pos in range(len(indices)):\n",
        "        # for each window position\n",
        "        for w in range(-window_size, window_size + 1):\n",
        "            context_word_pos = center_word_pos + w\n",
        "            # make soure not jump out sentence\n",
        "            if context_word_pos < 0 or context_word_pos >= len(indices) or center_word_pos == context_word_pos:\n",
        "                continue\n",
        "            context_word_idx = indices[context_word_pos]\n",
        "            idx_pairs.append((indices[center_word_pos], context_word_idx))\n",
        "\n",
        "idx_pairs = np.array(idx_pairs) # it will be useful to have this as numpy array"
      ],
      "execution_count": 9,
      "outputs": []
    },
    {
      "cell_type": "code",
      "metadata": {
        "id": "j8DE6fEFxAHH",
        "colab": {
          "base_uri": "https://localhost:8080/"
        },
        "outputId": "23005459-4dd5-4974-c5ea-b50ab28cd3a6"
      },
      "source": [
        "idx_pairs[:10]"
      ],
      "execution_count": 10,
      "outputs": [
        {
          "output_type": "execute_result",
          "data": {
            "text/plain": [
              "array([[0, 1],\n",
              "       [0, 2],\n",
              "       [1, 0],\n",
              "       [1, 2],\n",
              "       [1, 3],\n",
              "       [2, 0],\n",
              "       [2, 1],\n",
              "       [2, 3],\n",
              "       [3, 1],\n",
              "       [3, 2]])"
            ]
          },
          "metadata": {
            "tags": []
          },
          "execution_count": 10
        }
      ]
    },
    {
      "cell_type": "code",
      "metadata": {
        "id": "rhXMoiEWxr2B"
      },
      "source": [
        "def get_input_layer(words_idx):\n",
        "    x = torch.zeros(words_idx.shape[0], vocabulary_size).float()\n",
        "    x[list(range(0, words_idx.shape[0])), words_idx] = 1.\n",
        "    return x"
      ],
      "execution_count": 11,
      "outputs": []
    },
    {
      "cell_type": "code",
      "metadata": {
        "id": "0WSNhjJxxbaq"
      },
      "source": [
        "embedding_dims = 5\n",
        "\n",
        "class MyModule(nn.Module):\n",
        "    def __init__(self):\n",
        "        super().__init__()\n",
        "        self.input_line = nn.Linear(vocabulary_size, embedding_dims)\n",
        "        self.output_line = nn.Linear(embedding_dims, vocabulary_size)\n",
        "        \n",
        "    def forward(self, X):\n",
        "        X = F.relu(self.input_line(X))\n",
        "        return F.softmax(self.output_line(X))\n"
      ],
      "execution_count": 12,
      "outputs": []
    },
    {
      "cell_type": "code",
      "metadata": {
        "id": "IaRP3OIH76q3"
      },
      "source": [
        "eta = 0.001\n",
        "epochs = 1010\n",
        "model = MyModule()\n",
        "loss_function = nn.CrossEntropyLoss()\n",
        "optimizer = torch.optim.Adam(model.parameters(), lr=eta)"
      ],
      "execution_count": 13,
      "outputs": []
    },
    {
      "cell_type": "code",
      "metadata": {
        "id": "64AQ5uH98AMP",
        "colab": {
          "base_uri": "https://localhost:8080/"
        },
        "outputId": "15c27d8c-94f5-4931-8843-ec9fde5499dc"
      },
      "source": [
        "losses = []\n",
        "batch_size = 59\n",
        "for epoch in range(epochs):\n",
        "  loss_val = []\n",
        "  for batch in range(0,idx_pairs.shape[0], batch_size):\n",
        "    x = get_input_layer(idx_pairs[batch:batch+batch_size, 0])\n",
        "    target = torch.from_numpy(np.array([idx_pairs[batch:batch+batch_size, 1]]))\n",
        "\n",
        "    y = model(x)\n",
        "    loss = loss_function(y, target.view(-1))\n",
        "    loss_val.append(loss.item())\n",
        "    loss.backward()\n",
        "    optimizer.step()\n",
        "\n",
        "    model.zero_grad()\n",
        "\n",
        "  losses.append(np.mean(loss_val))\n",
        "  if epoch % 10 == 0:    \n",
        "        print(f'Loss at epo {epoch}: {np.mean(loss_val)}')"
      ],
      "execution_count": 15,
      "outputs": [
        {
          "output_type": "stream",
          "text": [
            "/usr/local/lib/python3.6/dist-packages/ipykernel_launcher.py:11: UserWarning: Implicit dimension choice for softmax has been deprecated. Change the call to include dim=X as an argument.\n",
            "  # This is added back by InteractiveShellApp.init_path()\n"
          ],
          "name": "stderr"
        },
        {
          "output_type": "stream",
          "text": [
            "Loss at epo 0: 5.693768566304987\n",
            "Loss at epo 10: 5.693501125682484\n",
            "Loss at epo 20: 5.692235664887861\n",
            "Loss at epo 30: 5.67473257671703\n",
            "Loss at epo 40: 5.667347539554942\n",
            "Loss at epo 50: 5.66451265595176\n",
            "Loss at epo 60: 5.661795789545232\n",
            "Loss at epo 70: 5.658240296623924\n",
            "Loss at epo 80: 5.653514970432628\n",
            "Loss at epo 90: 5.648187724026767\n",
            "Loss at epo 100: 5.6427177515896885\n",
            "Loss at epo 110: 5.63644383170388\n",
            "Loss at epo 120: 5.62797591902993\n",
            "Loss at epo 130: 5.617958740754561\n",
            "Loss at epo 140: 5.608377651734785\n",
            "Loss at epo 150: 5.5994275916706435\n",
            "Loss at epo 160: 5.591031117872759\n",
            "Loss at epo 170: 5.583785577253862\n",
            "Loss at epo 180: 5.577980171550404\n",
            "Loss at epo 190: 5.573335387490013\n",
            "Loss at epo 200: 5.569466829299927\n",
            "Loss at epo 210: 5.566136360168457\n",
            "Loss at epo 220: 5.563210660761053\n",
            "Loss at epo 230: 5.5605877529491075\n",
            "Loss at epo 240: 5.5581890669736\n",
            "Loss at epo 250: 5.556009531021118\n",
            "Loss at epo 260: 5.554059938950972\n",
            "Loss at epo 270: 5.5522799058393995\n",
            "Loss at epo 280: 5.550595673647794\n",
            "Loss at epo 290: 5.548964803869074\n",
            "Loss at epo 300: 5.5473737283186475\n",
            "Loss at epo 310: 5.545803546905518\n",
            "Loss at epo 320: 5.544245654886419\n",
            "Loss at epo 330: 5.542689886960116\n",
            "Loss at epo 340: 5.541106310757724\n",
            "Loss at epo 350: 5.539359244433316\n",
            "Loss at epo 360: 5.537337779998779\n",
            "Loss at epo 370: 5.535123109817505\n",
            "Loss at epo 380: 5.53291654586792\n",
            "Loss at epo 390: 5.53075630014593\n",
            "Loss at epo 400: 5.528648116371849\n",
            "Loss at epo 410: 5.526669220490889\n",
            "Loss at epo 420: 5.52489220012318\n",
            "Loss at epo 430: 5.5233165567571465\n",
            "Loss at epo 440: 5.521926012906161\n",
            "Loss at epo 450: 5.520684112202037\n",
            "Loss at epo 460: 5.51955736767162\n",
            "Loss at epo 470: 5.518483812158758\n",
            "Loss at epo 480: 5.517418427900835\n",
            "Loss at epo 490: 5.516325560483065\n",
            "Loss at epo 500: 5.515199422836304\n",
            "Loss at epo 510: 5.514061407609419\n",
            "Loss at epo 520: 5.512897079641169\n",
            "Loss at epo 530: 5.511668682098389\n",
            "Loss at epo 540: 5.510323351079768\n",
            "Loss at epo 550: 5.50883184779774\n",
            "Loss at epo 560: 5.507166385650635\n",
            "Loss at epo 570: 5.5054005492817275\n",
            "Loss at epo 580: 5.503606276078657\n",
            "Loss at epo 590: 5.501892371611162\n",
            "Loss at epo 600: 5.500290220434016\n",
            "Loss at epo 610: 5.498803398825905\n",
            "Loss at epo 620: 5.497412074695934\n",
            "Loss at epo 630: 5.4960690194910224\n",
            "Loss at epo 640: 5.494729562239214\n",
            "Loss at epo 650: 5.493385163220492\n",
            "Loss at epo 660: 5.4920689626173536\n",
            "Loss at epo 670: 5.490849516608498\n",
            "Loss at epo 680: 5.489714492451061\n",
            "Loss at epo 690: 5.4886532480066474\n",
            "Loss at epo 700: 5.487619616768577\n",
            "Loss at epo 710: 5.486592943018133\n",
            "Loss at epo 720: 5.485545960339633\n",
            "Loss at epo 730: 5.484477021477439\n",
            "Loss at epo 740: 5.483377543362704\n",
            "Loss at epo 750: 5.482254765250466\n",
            "Loss at epo 760: 5.4811335476962\n",
            "Loss at epo 770: 5.480042110789906\n",
            "Loss at epo 780: 5.479004014622081\n",
            "Loss at epo 790: 5.478040933609009\n",
            "Loss at epo 800: 5.477132840590044\n",
            "Loss at epo 810: 5.476271542635831\n",
            "Loss at epo 820: 5.475444967096502\n",
            "Loss at epo 830: 5.474644335833463\n",
            "Loss at epo 840: 5.473860718987205\n",
            "Loss at epo 850: 5.473089543255893\n",
            "Loss at epo 860: 5.472334710034457\n",
            "Loss at epo 870: 5.471603696996516\n",
            "Loss at epo 880: 5.470905650745738\n",
            "Loss at epo 890: 5.470233375375921\n",
            "Loss at epo 900: 5.469583879817616\n",
            "Loss at epo 910: 5.468945698304609\n",
            "Loss at epo 920: 5.468320499766957\n",
            "Loss at epo 930: 5.46773134578358\n",
            "Loss at epo 940: 5.467199000445279\n",
            "Loss at epo 950: 5.466716072776101\n",
            "Loss at epo 960: 5.4662701216611\n",
            "Loss at epo 970: 5.465852759101174\n",
            "Loss at epo 980: 5.465456225655296\n",
            "Loss at epo 990: 5.46508147499778\n",
            "Loss at epo 1000: 5.464721939780495\n"
          ],
          "name": "stdout"
        }
      ]
    },
    {
      "cell_type": "code",
      "metadata": {
        "id": "iokjBHHlL3Mz",
        "colab": {
          "base_uri": "https://localhost:8080/",
          "height": 282
        },
        "outputId": "dd54ef00-afab-4c3f-cca2-6abf4d80fea8"
      },
      "source": [
        "plt.plot(list(range(0,epochs, 1)), losses)"
      ],
      "execution_count": 16,
      "outputs": [
        {
          "output_type": "execute_result",
          "data": {
            "text/plain": [
              "[<matplotlib.lines.Line2D at 0x7fc2f6eb72b0>]"
            ]
          },
          "metadata": {
            "tags": []
          },
          "execution_count": 16
        },
        {
          "output_type": "display_data",
          "data": {
            "image/png": "[encoded data removed]",
            "text/plain": [
              "<Figure size 432x288 with 1 Axes>"
            ]
          },
          "metadata": {
            "tags": [],
            "needs_background": "light"
          }
        }
      ]
    },
    {
      "cell_type": "code",
      "metadata": {
        "id": "Tyrd9smoNhfi"
      },
      "source": [
        "preds = np.ones((len(idx2word), embedding_dims))\n",
        "for idx, i in enumerate(idx2word.keys()):\n",
        "  x = get_input_layer(np.array([i]))\n",
        "  out = model.input_line(x)\n",
        "  preds[idx] = out.detach()"
      ],
      "execution_count": 17,
      "outputs": []
    },
    {
      "cell_type": "code",
      "metadata": {
        "id": "9kVxPJWnOw1J",
        "colab": {
          "base_uri": "https://localhost:8080/"
        },
        "outputId": "d5328e2f-35a1-41f3-a98f-300a06a92bdb"
      },
      "source": [
        "print(preds)"
      ],
      "execution_count": 18,
      "outputs": [
        {
          "output_type": "stream",
          "text": [
            "[[ 6.25703812e-01  1.98915231e+00 -4.90856171e-03 -3.05247307e-03\n",
            "   2.66152453e+00]\n",
            " [ 1.16151416e+00  2.98094988e+00 -2.87199020e-03  2.11358070e-03\n",
            "  -9.92774963e-04]\n",
            " [ 1.15646398e+00  2.97552419e+00 -2.49338150e-03 -3.38315964e-04\n",
            "  -2.90703773e-03]\n",
            " ...\n",
            " [ 1.91180646e+00  1.24144888e+00  3.14043307e+00 -4.40406799e-03\n",
            "  -3.16619873e-04]\n",
            " [ 3.26998854e+00 -3.24487686e-04  4.16523314e+00  3.79078388e-01\n",
            "   9.22970295e-01]\n",
            " [ 3.36743975e+00 -2.17604637e-03  4.27915812e+00  3.84031057e-01\n",
            "   9.59120989e-01]]\n"
          ],
          "name": "stdout"
        }
      ]
    }
  ]
}